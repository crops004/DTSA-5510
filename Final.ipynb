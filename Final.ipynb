{
 "cells": [
  {
   "cell_type": "code",
   "execution_count": 41,
   "metadata": {},
   "outputs": [
    {
     "name": "stdout",
     "output_type": "stream",
     "text": [
      "Requirement already satisfied: seaborn in /opt/conda/lib/python3.7/site-packages (0.10.1)\n",
      "Collecting seaborn\n",
      "  Downloading seaborn-0.12.2-py3-none-any.whl (293 kB)\n",
      "     |████████████████████████████████| 293 kB 42.0 MB/s            \n",
      "\u001b[?25hRequirement already satisfied: numpy!=1.24.0,>=1.17 in /opt/conda/lib/python3.7/site-packages (from seaborn) (1.18.4)\n",
      "Requirement already satisfied: matplotlib!=3.6.1,>=3.1 in /opt/conda/lib/python3.7/site-packages (from seaborn) (3.2.1)\n",
      "Requirement already satisfied: pandas>=0.25 in /opt/conda/lib/python3.7/site-packages (from seaborn) (1.0.3)\n",
      "Requirement already satisfied: typing_extensions in /opt/conda/lib/python3.7/site-packages (from seaborn) (3.7.4.2)\n",
      "Requirement already satisfied: cycler>=0.10 in /opt/conda/lib/python3.7/site-packages (from matplotlib!=3.6.1,>=3.1->seaborn) (0.10.0)\n",
      "Requirement already satisfied: pyparsing!=2.0.4,!=2.1.2,!=2.1.6,>=2.0.1 in /opt/conda/lib/python3.7/site-packages (from matplotlib!=3.6.1,>=3.1->seaborn) (2.4.7)\n",
      "Requirement already satisfied: kiwisolver>=1.0.1 in /opt/conda/lib/python3.7/site-packages (from matplotlib!=3.6.1,>=3.1->seaborn) (1.2.0)\n",
      "Requirement already satisfied: python-dateutil>=2.1 in /opt/conda/lib/python3.7/site-packages (from matplotlib!=3.6.1,>=3.1->seaborn) (2.8.1)\n",
      "Requirement already satisfied: pytz>=2017.2 in /opt/conda/lib/python3.7/site-packages (from pandas>=0.25->seaborn) (2020.1)\n",
      "Requirement already satisfied: six in /opt/conda/lib/python3.7/site-packages (from cycler>=0.10->matplotlib!=3.6.1,>=3.1->seaborn) (1.14.0)\n",
      "Installing collected packages: seaborn\n",
      "  Attempting uninstall: seaborn\n",
      "    Found existing installation: seaborn 0.10.1\n",
      "    Uninstalling seaborn-0.10.1:\n",
      "      Successfully uninstalled seaborn-0.10.1\n",
      "Successfully installed seaborn-0.12.2\n",
      "\u001b[33mWARNING: You are using pip version 21.3.1; however, version 23.2.1 is available.\n",
      "You should consider upgrading via the '/opt/conda/bin/python -m pip install --upgrade pip' command.\u001b[0m\n",
      "Note: you may need to restart the kernel to use updated packages.\n"
     ]
    }
   ],
   "source": [
    "pip install seaborn --upgrade\n",
    "!pip install langdetect"
   ]
  },
  {
   "cell_type": "code",
   "execution_count": 25,
   "metadata": {},
   "outputs": [],
   "source": [
    "import pandas as pd\n",
    "import numpy as np\n",
    "import re\n",
    "import matplotlib.pyplot as plt\n",
    "import seaborn as sns\n",
    "import itertools\n",
    "\n",
    "\n",
    "\n",
    "from string import punctuation\n",
    "from langdetect import detect, DetectorFactory, LangDetectException\n",
    "from sklearn.model_selection import train_test_split\n",
    "from sklearn.feature_extraction.text import TfidfVectorizer\n",
    "from sklearn.manifold import TSNE\n",
    "from sklearn.decomposition import NMF\n",
    "from sklearn.metrics import accuracy_score, confusion_matrix, ConfusionMatrixDisplay\n",
    "from sklearn.linear_model import LogisticRegression"
   ]
  },
  {
   "cell_type": "markdown",
   "metadata": {},
   "source": [
    "My dataset I have chosen to work it is a set containing books and their reviews. The data comes via the Goodreads API (https://www.goodreads.com/api). The training set is aproximately 54,000 books, and the test set is aproximately 1100 books. I intend to try and use tf-idf and NMF to predict reviews of my test data set."
   ]
  },
  {
   "cell_type": "markdown",
   "metadata": {},
   "source": [
    "## EDA"
   ]
  },
  {
   "cell_type": "code",
   "execution_count": 3,
   "metadata": {},
   "outputs": [
    {
     "name": "stdout",
     "output_type": "stream",
     "text": [
      "<bound method DataFrame.info of                                             book_authors  \\\n",
      "0                                        Suzanne Collins   \n",
      "1                             J.K. Rowling|Mary GrandPré   \n",
      "2                                             Harper Lee   \n",
      "3      Jane Austen|Anna Quindlen|Mrs. Oliphant|George...   \n",
      "4                                        Stephenie Meyer   \n",
      "...                                                  ...   \n",
      "54296                                      Howard Megdal   \n",
      "54297                                      Howard Megdal   \n",
      "54298                                      Howard Megdal   \n",
      "54299                             Mimi Baird|Eve Claxton   \n",
      "54300                                         Leah Price   \n",
      "\n",
      "                                               book_desc  \\\n",
      "0      Winning will make you famous. Losing means cer...   \n",
      "1      There is a door at the end of a silent corrido...   \n",
      "2      The unforgettable novel of a childhood in a sl...   \n",
      "3      «È cosa ormai risaputa che a uno scapolo in po...   \n",
      "4      About three things I was absolutely positive.F...   \n",
      "...                                                  ...   \n",
      "54296  In this fearless and half-crazy story, Howard ...   \n",
      "54297  From the icons of the game to the players who ...   \n",
      "54298                                                NaN   \n",
      "54299  Soon to be a major motion picture, from Brad P...   \n",
      "54300  The Anthology and the Rise of the Novel brings...   \n",
      "\n",
      "                             book_edition     book_format    book_isbn  \\\n",
      "0                                     NaN       Hardcover  9.78044E+12   \n",
      "1                              US Edition       Paperback  9.78044E+12   \n",
      "2                        50th Anniversary       Paperback  9.78006E+12   \n",
      "3      Modern Library Classics, USA / CAN       Paperback  9.78068E+12   \n",
      "4                                     NaN       Paperback  9.78032E+12   \n",
      "...                                   ...             ...          ...   \n",
      "54296                                 NaN       Hardcover  9.78161E+12   \n",
      "54297                                 NaN       Hardcover  9.78006E+12   \n",
      "54298                                 NaN  Kindle Edition          NaN   \n",
      "54299                                 NaN       Hardcover   9.7808E+12   \n",
      "54300                                 NaN       Paperback  9.78052E+12   \n",
      "\n",
      "      book_pages  book_rating  book_rating_count  book_review_count  \\\n",
      "0      374 pages         4.33            5519135             160706   \n",
      "1      870 pages         4.48            2041594              33264   \n",
      "2      324 pages         4.27            3745197              79450   \n",
      "3      279 pages         4.25            2453620              54322   \n",
      "4      498 pages         3.58            4281268              97991   \n",
      "...          ...          ...                ...                ...   \n",
      "54296  256 pages         3.37                 27                  9   \n",
      "54297  256 pages         3.97                 34                  5   \n",
      "54298        NaN         3.66                 32                  3   \n",
      "54299  272 pages         3.82                867                187   \n",
      "54300  236 pages         3.58                 12                  3   \n",
      "\n",
      "                                              book_title  \\\n",
      "0                                       The Hunger Games   \n",
      "1              Harry Potter and the Order of the Phoenix   \n",
      "2                                  To Kill a Mockingbird   \n",
      "3                                    Pride and Prejudice   \n",
      "4                                               Twilight   \n",
      "...                                                  ...   \n",
      "54296  Taking the Field: A Fan's Quest to Run the Tea...   \n",
      "54297  The Baseball Talmud: Koufax, Greenberg, and th...   \n",
      "54298  Wilpon's Folly - The Story of a Man, His Fortu...   \n",
      "54299  He Wanted the Moon: The Madness and Medical Ge...   \n",
      "54300  The Anthology and the Rise of the Novel: From ...   \n",
      "\n",
      "                                                  genres  \\\n",
      "0      Young Adult|Fiction|Science Fiction|Dystopia|F...   \n",
      "1                            Fantasy|Young Adult|Fiction   \n",
      "2      Classics|Fiction|Historical|Historical Fiction...   \n",
      "3                               Classics|Fiction|Romance   \n",
      "4      Young Adult|Fantasy|Romance|Paranormal|Vampire...   \n",
      "...                                                  ...   \n",
      "54296  Sports|Baseball|Sports and Games|Sports|Nonfic...   \n",
      "54297                 Nonfiction|Sports and Games|Sports   \n",
      "54298                          Sports|Baseball|Abandoned   \n",
      "54299  Nonfiction|Autobiography|Memoir|Biography|Psyc...   \n",
      "54300  Criticism|Literary Criticism|Philosophy|Theory...   \n",
      "\n",
      "                                               image_url  \n",
      "0      https://images.gr-assets.com/books/1447303603l...  \n",
      "1      https://images.gr-assets.com/books/1255614970l...  \n",
      "2      https://images.gr-assets.com/books/1361975680l...  \n",
      "3      https://images.gr-assets.com/books/1320399351l...  \n",
      "4      https://images.gr-assets.com/books/1361039443l...  \n",
      "...                                                  ...  \n",
      "54296  https://images.gr-assets.com/books/1312074392l...  \n",
      "54297  https://images.gr-assets.com/books/1348841629l...  \n",
      "54298  https://images.gr-assets.com/books/1394277097l...  \n",
      "54299  https://images.gr-assets.com/books/1403192135l...  \n",
      "54300  https://images.gr-assets.com/books/1349014225l...  \n",
      "\n",
      "[54301 rows x 12 columns]>\n",
      "book_authors             0\n",
      "book_desc             1331\n",
      "book_edition         48848\n",
      "book_format           1656\n",
      "book_isbn            12866\n",
      "book_pages            2522\n",
      "book_rating              0\n",
      "book_rating_count        0\n",
      "book_review_count        0\n",
      "book_title               0\n",
      "genres                3242\n",
      "image_url              683\n",
      "dtype: int64\n",
      "book_authors            0\n",
      "book_desc               5\n",
      "book_edition         1036\n",
      "book_format            34\n",
      "book_isbn             450\n",
      "book_pages             70\n",
      "book_rating             0\n",
      "book_rating_count       0\n",
      "book_review_count       0\n",
      "book_title              0\n",
      "genres                 11\n",
      "image_url               4\n",
      "dtype: int64\n"
     ]
    }
   ],
   "source": [
    "# create dataframes of training and test data sets\n",
    "train = pd.read_csv('book_data.csv')\n",
    "test = pd.read_csv('test_book_data.csv')\n",
    "\n",
    "print(train.info)\n",
    "\n",
    "print(train.isnull().sum())\n",
    "print(test.isnull().sum())"
   ]
  },
  {
   "cell_type": "markdown",
   "metadata": {},
   "source": [
    "It's clear I have many unnecessary columns, and many null values to work with. Since I have so many items in the dataset, I will just remove null values. The only columns that will be relevant to me are the book_desc and book_rating columns, since I will be running tf-idf on the description and trying to model the rating from that."
   ]
  },
  {
   "cell_type": "code",
   "execution_count": 4,
   "metadata": {},
   "outputs": [
    {
     "name": "stdout",
     "output_type": "stream",
     "text": [
      "                                               book_desc  book_rating\n",
      "0      Winning will make you famous. Losing means cer...         4.33\n",
      "1      There is a door at the end of a silent corrido...         4.48\n",
      "2      The unforgettable novel of a childhood in a sl...         4.27\n",
      "3      «È cosa ormai risaputa che a uno scapolo in po...         4.25\n",
      "4      About three things I was absolutely positive.F...         3.58\n",
      "...                                                  ...          ...\n",
      "54295  Avi Steinberg is stumped. After defecting from...         3.51\n",
      "54296  In this fearless and half-crazy story, Howard ...         3.37\n",
      "54297  From the icons of the game to the players who ...         3.97\n",
      "54299  Soon to be a major motion picture, from Brad P...         3.82\n",
      "54300  The Anthology and the Rise of the Novel brings...         3.58\n",
      "\n",
      "[52969 rows x 2 columns]\n",
      "book_desc      0\n",
      "book_rating    0\n",
      "dtype: int64\n"
     ]
    }
   ],
   "source": [
    "train = train[['book_desc', 'book_rating']].copy()\n",
    "test = test[['book_desc', 'book_rating']].copy()\n",
    "\n",
    "train = train.replace(r'^\\s*$', np.nan, regex=True) # replacing any blank cells with np.nan\n",
    "train = train.dropna()\n",
    "\n",
    "print(train)\n",
    "print(train.isnull().sum())"
   ]
  },
  {
   "cell_type": "code",
   "execution_count": 5,
   "metadata": {},
   "outputs": [],
   "source": [
    "# same cleaning on test set\n",
    "test = test.replace(r'^\\s*$', np.nan, regex=True)\n",
    "test = test.dropna()"
   ]
  },
  {
   "cell_type": "markdown",
   "metadata": {},
   "source": [
    "Further inspection of the dataset shows that many of the descriptions are not in english, and many have strange characters or html tags that need to be removed before moving on."
   ]
  },
  {
   "cell_type": "code",
   "execution_count": 6,
   "metadata": {},
   "outputs": [
    {
     "data": {
      "text/plain": [
       "'\\r\\r\\r\\r\\r\\r\\r\\r\\n“We were all heading for each other on a collision course, no matter what. Maybe some people are just meant to be in the same story.”\\r\\r\\r\\r\\r\\r\\r\\r\\n At first, Jude and her twin brother Noah, are inseparable. Noah draws constantly and is falling in love with the charismatic boy next door, while daredevil Jude wears red-red lipstick, cliff-dives, and does all the talking for both of them. Years later, they are barely speaking. Something has happened to change the twins in different yet equally devastating ways . . . but then Jude meets an intriguing, irresistible boy and a mysterious new mentor. The early years are Noah’s to tell; the later years are Jude’s. But they each have only half the story, and if they can only find their way back to one another, they’ll have a chance to remake their world. This radiant, award-winning novel from the acclaimed author of The Sky Is Everywhere will leave you breathless and teary and laughing—often all at once. Printz Award Winner Stonewall Honor Book'"
      ]
     },
     "execution_count": 6,
     "metadata": {},
     "output_type": "execute_result"
    }
   ],
   "source": [
    "train['book_desc'][770]"
   ]
  },
  {
   "cell_type": "code",
   "execution_count": 7,
   "metadata": {},
   "outputs": [
    {
     "data": {
      "text/plain": [
       "'প্রথম যুগের উদয়দিঙ্গনে\\xa0\\xa0\\xa0\\xa0\\xa0প্রথম দিনের উষা নেমে এল যবেপ্রকাশপিয়াসি ধরিত্রী বনে বনে\\xa0\\xa0\\xa0\\xa0\\xa0শুধায়ে ফিরিল সুর খুঁজে পাবে কবে।।এসো এসো সেই নবসৃষ্টির কবিনবজাগরণযুগপ্রভাতের রবি―গান এনেছিলে নব ছন্দের তালেতরুণী উষার শিশিরস্নানের কালে\\xa0\\xa0\\xa0\\xa0\\xa0আলো-আঁধারের আনন্দবিপ্লবে।।সে গান আজিও নানা রাগরাগিণীতেশুনাও তাহারে আগমনিসঙ্গিতে\\xa0\\xa0\\xa0\\xa0\\xa0যে জাগায় চোখে নূতন-দেখার দেখা।যে এসে দাঁড়ায় ব্যাকুলিত ধরণীতেবননীলিমার পেলব সীমানাটিতে,\\xa0\\xa0\\xa0\\xa0\\xa0বহু জনতার মাঝে অপূর্ব একা।অবাক্ আলোযর লিপি যে বহিয়া আনেনিভৃত প্রহরে কবির চকিত প্রাণে,\\xa0\\xa0\\xa0\\xa0\\xa0বিহ্বল প্রাতে সঙ্গীতসৌরভে\\xa0\\xa0\\xa0\\xa0\\xa0\\xa0\\xa0\\xa0\\xa0\\xa0দূর আকাশের অরুণিম উত্সবে।।'"
      ]
     },
     "execution_count": 7,
     "metadata": {},
     "output_type": "execute_result"
    }
   ],
   "source": [
    "train['book_desc'][33397]"
   ]
  },
  {
   "cell_type": "code",
   "execution_count": 8,
   "metadata": {},
   "outputs": [],
   "source": [
    "# creating methods to clean the text\n",
    "\n",
    "def clean_text(text):\n",
    "    #simplifiy the text, remove punctuation and tags\n",
    "    text = text.lower().split()\n",
    "\n",
    "    text = \" \".join(text)\n",
    "\n",
    "    text = re.sub(r\"<br />\", \" \", text)\n",
    "    text = re.sub(r\"[^a-z]\", \" \", text)\n",
    "    text = re.sub(r\"   \", \" \", text)  #\n",
    "    text = re.sub(r\"  \", \" \", text)\n",
    "\n",
    "    text = ''.join([c for c in text if c not in punctuation]) \n",
    "\n",
    "    return text\n",
    "\n",
    "def lang_check(text):\n",
    "    #lang_check will check the language, and replace the text with np.nan if it is not english, allowing for easy removal\n",
    "    DetectorFactory.seed = 0\n",
    "\n",
    "    try:\n",
    "        lang = detect(text)\n",
    "    except(RuntimeError, TypeError, NameError, LangDetectException): #if language cannot be identified, dummy language 'zz'\n",
    "        lang = 'zz'\n",
    "\n",
    "    if lang == 'en':\n",
    "        text = text\n",
    "    else:\n",
    "        text = np.nan\n",
    "\n",
    "    return text\n"
   ]
  },
  {
   "cell_type": "code",
   "execution_count": 9,
   "metadata": {},
   "outputs": [],
   "source": [
    "# training data cleaning\n",
    "\n",
    "# checking the language of each book_desc\n",
    "train_lang = []\n",
    "for desc in train.book_desc:\n",
    "    train_lang.append(lang_check(desc))\n",
    "\n",
    "# adding column to the train df called text which has all of the book descriptions that were english\n",
    "train['text'] = train_lang\n",
    "train = train.dropna()\n",
    "\n",
    "# cleaning book_desc text\n",
    "train_clean = []\n",
    "for text in train.text:\n",
    "    train_clean.append(clean_text(text))\n",
    "\n",
    "# replacing 'text' column with newly cleaning text\n",
    "train['text'] = train_clean\n",
    "train = train.drop('book_desc', axis=1)\n",
    "\n",
    "# once again replacing blank cells with np.nan just to be safe, then dropping all np.nan\n",
    "train = train.replace(r'^\\s*$', np.nan, regex=True)\n",
    "train = train.dropna()\n",
    "\n",
    "# Same procedure for test data cleaning\n",
    "test_lang = []\n",
    "for desc in test.book_desc:\n",
    "    test_lang.append(lang_check(desc))\n",
    "\n",
    "test['text'] = test_lang\n",
    "test = test.dropna()\n",
    "\n",
    "test_clean = []\n",
    "for text in test.text:\n",
    "    test_clean.append(clean_text(text))\n",
    "\n",
    "test['text'] = test_clean\n",
    "test = test.drop('book_desc', axis=1)\n",
    "\n",
    "test = test.replace(r'^\\s*$', np.nan, regex=True)\n",
    "test = test.dropna()"
   ]
  },
  {
   "cell_type": "code",
   "execution_count": 10,
   "metadata": {},
   "outputs": [
    {
     "name": "stdout",
     "output_type": "stream",
     "text": [
      "<class 'pandas.core.frame.DataFrame'>\n",
      "Int64Index: 46019 entries, 0 to 54300\n",
      "Data columns (total 2 columns):\n",
      " #   Column       Non-Null Count  Dtype  \n",
      "---  ------       --------------  -----  \n",
      " 0   book_rating  46019 non-null  float64\n",
      " 1   text         46019 non-null  object \n",
      "dtypes: float64(1), object(1)\n",
      "memory usage: 1.1+ MB\n"
     ]
    }
   ],
   "source": [
    "train.info()"
   ]
  },
  {
   "cell_type": "markdown",
   "metadata": {},
   "source": [
    "Data cleaning removed about 6000 entries from the dataset. Still, with 46,000 items, splitting the data will be necessary to make it more manageable."
   ]
  },
  {
   "cell_type": "code",
   "execution_count": 11,
   "metadata": {},
   "outputs": [
    {
     "data": {
      "text/plain": [
       "0        4.33\n",
       "1        4.48\n",
       "2        4.27\n",
       "4        3.58\n",
       "5        4.36\n",
       "         ... \n",
       "54295    3.51\n",
       "54296    3.37\n",
       "54297    3.97\n",
       "54299    3.82\n",
       "54300    3.58\n",
       "Name: book_rating, Length: 46019, dtype: float64"
      ]
     },
     "execution_count": 11,
     "metadata": {},
     "output_type": "execute_result"
    }
   ],
   "source": [
    "# checking the book rating column out\n",
    "train.book_rating"
   ]
  },
  {
   "cell_type": "markdown",
   "metadata": {},
   "source": [
    "Rather than floats, I want to have these numbers rounded to int so I can more easily predict them"
   ]
  },
  {
   "cell_type": "code",
   "execution_count": 12,
   "metadata": {},
   "outputs": [
    {
     "data": {
      "text/plain": [
       "0        4\n",
       "1        4\n",
       "2        4\n",
       "4        4\n",
       "5        4\n",
       "        ..\n",
       "54295    4\n",
       "54296    3\n",
       "54297    4\n",
       "54299    4\n",
       "54300    4\n",
       "Name: book_rating, Length: 46019, dtype: int64"
      ]
     },
     "execution_count": 12,
     "metadata": {},
     "output_type": "execute_result"
    }
   ],
   "source": [
    "train.book_rating = train.book_rating.round()\n",
    "test.book_rating = test.book_rating.round() # same thing for test data\n",
    "\n",
    "train = train.astype({'book_rating': int})\n",
    "test = test.astype({'book_rating': int})\n",
    "\n",
    "train.book_rating"
   ]
  },
  {
   "cell_type": "markdown",
   "metadata": {},
   "source": [
    "Much better. Now let's visualize the data some"
   ]
  },
  {
   "cell_type": "code",
   "execution_count": 13,
   "metadata": {},
   "outputs": [
    {
     "data": {
      "image/png": "[encoded data removed]",
      "text/plain": [
       "<Figure size 432x288 with 1 Axes>"
      ]
     },
     "metadata": {
      "needs_background": "light"
     },
     "output_type": "display_data"
    },
    {
     "name": "stdout",
     "output_type": "stream",
     "text": [
      "4    41376\n",
      "5     2543\n",
      "3     2024\n",
      "0       58\n",
      "2       18\n",
      "Name: book_rating, dtype: int64\n"
     ]
    }
   ],
   "source": [
    "uniq_cat = train['book_rating'].unique()\n",
    "\n",
    "value_counts = train['book_rating'].value_counts()\n",
    "plt.bar(uniq_cat, value_counts)\n",
    "plt.title(\"Books by Rating\")\n",
    "plt.ylabel(\"Count\")\n",
    "plt.xlabel(\"Category\")\n",
    "plt.show()\n",
    "\n",
    "print(value_counts)"
   ]
  },
  {
   "cell_type": "markdown",
   "metadata": {},
   "source": [
    "Since the vast majority of ratings are  4s, they will dominate the ratings. I will drop 0s and 2s, and reduce the number of 4s, so that we have a nice even distribution of ratings."
   ]
  },
  {
   "cell_type": "code",
   "execution_count": 14,
   "metadata": {},
   "outputs": [],
   "source": [
    "train_4 = train.drop(train[train['book_rating'] < 4].index)\n",
    "train_4 = train_4.drop(train_4[train_4['book_rating'] > 4].index)\n",
    "\n",
    "train = train.drop(train[train['book_rating'] < 3].index)\n",
    "train = train.drop(train[train['book_rating'] == 4].index)\n",
    "\n",
    "train_4, excess_train_4 = train_test_split(train_4, test_size=.95, random_state=0)\n",
    "\n",
    "train = pd.concat([train, train_4], ignore_index=True)"
   ]
  },
  {
   "cell_type": "code",
   "execution_count": 15,
   "metadata": {},
   "outputs": [
    {
     "data": {
      "image/png": "[encoded data removed]",
      "text/plain": [
       "<Figure size 432x288 with 1 Axes>"
      ]
     },
     "metadata": {
      "needs_background": "light"
     },
     "output_type": "display_data"
    },
    {
     "name": "stdout",
     "output_type": "stream",
     "text": [
      "5    2543\n",
      "4    2068\n",
      "3    2024\n",
      "Name: book_rating, dtype: int64\n"
     ]
    }
   ],
   "source": [
    "uniq_cat = train['book_rating'].unique()\n",
    "\n",
    "value_counts = train['book_rating'].value_counts()\n",
    "plt.bar(uniq_cat, value_counts)\n",
    "plt.title(\"Books by Rating\")\n",
    "plt.ylabel(\"Count\")\n",
    "plt.xlabel(\"Category\")\n",
    "plt.show()\n",
    "\n",
    "print(value_counts)"
   ]
  },
  {
   "cell_type": "markdown",
   "metadata": {},
   "source": [
    "Now we have a fairly even distribution of ratings. Let's take a look at the book descriptions themselves"
   ]
  },
  {
   "cell_type": "code",
   "execution_count": 16,
   "metadata": {},
   "outputs": [
    {
     "data": {
      "text/plain": [
       "<matplotlib.axes._subplots.AxesSubplot at 0x7f055cbb0350>"
      ]
     },
     "execution_count": 16,
     "metadata": {},
     "output_type": "execute_result"
    },
    {
     "data": {
      "image/png": "[encoded data removed]",
      "text/plain": [
       "<Figure size 432x288 with 1 Axes>"
      ]
     },
     "metadata": {
      "needs_background": "light"
     },
     "output_type": "display_data"
    }
   ],
   "source": [
    "word_count = train['text'].str.len()\n",
    "sns.histplot(word_count)"
   ]
  },
  {
   "cell_type": "markdown",
   "metadata": {},
   "source": [
    "A fairly nice disribution of length of descriptions. The very long descriptions could heavily influence the model, but this can be accounted for in the tf-idf with the sublinear_tf parameter, so I will not worry about them now"
   ]
  },
  {
   "cell_type": "markdown",
   "metadata": {},
   "source": [
    "I will use sklearns TfidfVectorizer to process the raw text. It stands for term frequency-inverse document frequency. It works by basically counting how frequently words or phrases appear in documents, and how many documents contain those words or phrases. By multiplying the term frequency by the inverse document frequency, you end up with a matrix where each row is a document, and each column is a word or phrase, and the cells are the tf-idf score. This matrix will be used in NMF later on."
   ]
  },
  {
   "cell_type": "code",
   "execution_count": 17,
   "metadata": {},
   "outputs": [],
   "source": [
    "# vectorize the text in each article\n",
    "tfidf = TfidfVectorizer(sublinear_tf=True, min_df=15, norm='l2', ngram_range=(1, 1), stop_words='english')\n",
    "train_features = tfidf.fit_transform(train.text).toarray()\n",
    "test_features = tfidf.transform(test.text).toarray()\n",
    "\n",
    "labels = train.book_rating"
   ]
  },
  {
   "cell_type": "markdown",
   "metadata": {},
   "source": [
    "Visualizing the tfidf in 2d with the help of TSNE"
   ]
  },
  {
   "cell_type": "code",
   "execution_count": 18,
   "metadata": {},
   "outputs": [
    {
     "data": {
      "image/png": "[encoded data removed]",
      "text/plain": [
       "<Figure size 432x288 with 1 Axes>"
      ]
     },
     "metadata": {
      "needs_background": "light"
     },
     "output_type": "display_data"
    }
   ],
   "source": [
    "#project data to 2D\n",
    "tsne_features = TSNE().fit_transform(train_features)\n",
    "sns.scatterplot(x=tsne_features[:,0], y=tsne_features[:,1], hue=labels,\n",
    "                palette='colorblind').set(title='tf-idf feature vector by article, projected to 2 dimensions')\n",
    "plt.show()"
   ]
  },
  {
   "cell_type": "markdown",
   "metadata": {},
   "source": [
    "Not showing a great result. We are looking to see a nice separation between our three categories, but we have a big blob. I tried adjusting many of the parameters in the tf-idf, but I could not get a good separation. This leads me to believe that our NMF will struggle to produce accurate ratings, but we will push on and see what happens."
   ]
  },
  {
   "cell_type": "markdown",
   "metadata": {},
   "source": [
    "## Analysis with Unsupervised Learning"
   ]
  },
  {
   "cell_type": "markdown",
   "metadata": {},
   "source": [
    "Building some methods that will help make the optimization of my model easier"
   ]
  },
  {
   "cell_type": "code",
   "execution_count": 19,
   "metadata": {},
   "outputs": [],
   "source": [
    "# NMF model will take our train_factors matrix and decompose it to a factor matrix we can use to make predictions from\n",
    "def NMFmodel(solver, beta_loss, features, init=None):\n",
    "    model = NMF(n_components=3, solver=solver, beta_loss=beta_loss, init=init, random_state=0)\n",
    "    W = model.fit_transform(features)\n",
    "\n",
    "    return model, W\n",
    "\n",
    "def predict(categories, transform):\n",
    "    yp = []\n",
    "    W = pd.DataFrame(transform)\n",
    "\n",
    "    id2cat = {index: element for index, element in enumerate(categories)}\n",
    "\n",
    "    for row in range(len(W.index)):\n",
    "        pred = W.loc[row].idxmax()\n",
    "        pred = id2cat.get(pred)\n",
    "        yp.append(pred)\n",
    "\n",
    "    return yp\n",
    "\n",
    "\n",
    "def label_permute_compare(yt, W):\n",
    "    \"\"\"\n",
    "    yt: y_true\n",
    "    W the basis matrix of the current model\n",
    "    label_permute_compare runs through the permutations of the 3 ratings, and runs the predictions for that iteration\n",
    "    then calculates the accuracy with given predictions, and stores the best results\n",
    "    \"\"\"\n",
    "    max_score = 0\n",
    "    order = []\n",
    "    iterations = list(itertools.permutations(range(3, 6)))\n",
    "\n",
    "    for i in iterations:\n",
    "        categories = i\n",
    "        yp = predict(categories, W)\n",
    "        score = accuracy_score(yt, yp)\n",
    "        if score > max_score:\n",
    "            max_score = score\n",
    "            order = i\n",
    "\n",
    "    return order, max_score\n"
   ]
  },
  {
   "cell_type": "code",
   "execution_count": 21,
   "metadata": {},
   "outputs": [
    {
     "name": "stdout",
     "output_type": "stream",
     "text": [
      "0.41220798794272795\n"
     ]
    }
   ],
   "source": [
    "initialNMF, initialW = NMFmodel('cd', 'frobenius', train_features)\n",
    "\n",
    "# find correct order of categories\n",
    "categories, acc = label_permute_compare(labels, initialW)\n",
    "\n",
    "yp = predict(categories, initialW)\n",
    "acc = accuracy_score(labels, yp)\n",
    "\n",
    "print(acc)"
   ]
  },
  {
   "cell_type": "code",
   "execution_count": 22,
   "metadata": {},
   "outputs": [
    {
     "data": {
      "image/png": "[encoded data removed]",
      "text/plain": [
       "<Figure size 432x288 with 2 Axes>"
      ]
     },
     "metadata": {
      "needs_background": "light"
     },
     "output_type": "display_data"
    }
   ],
   "source": [
    "# confusion matrix\n",
    "cm = confusion_matrix(labels, yp)\n",
    "\n",
    "color = 'white'\n",
    "matrix = ConfusionMatrixDisplay(confusion_matrix=cm, display_labels=sorted(uniq_cat))\n",
    "matrix.plot()\n",
    "plt.title('Confusion Matrix')\n",
    "plt.xlabel('Predicted Label')\n",
    "plt.ylabel('True Label')\n",
    "plt.show()"
   ]
  },
  {
   "cell_type": "markdown",
   "metadata": {},
   "source": [
    "41% accuracy it not great for only predicting a range of 3-5. Did predict about 50% of the 3 ratings accurately, if we are trying to look on the bright side. Trying to optimize the model now."
   ]
  },
  {
   "cell_type": "code",
   "execution_count": 23,
   "metadata": {},
   "outputs": [
    {
     "name": "stdout",
     "output_type": "stream",
     "text": [
      "['Initial', 'mu Solver', 'KL beta-loss', 'Random Init'] [0.41220798794272795, 0.412810851544838, 0.4105501130369254, 0.4076865109269028]\n"
     ]
    }
   ],
   "source": [
    "# hyperparameter tuning\n",
    "# lists for comparison\n",
    "attempted_model = []\n",
    "train_accuracy = []\n",
    "\n",
    "attempted_model.append('Initial')\n",
    "train_accuracy.append(acc)\n",
    "\n",
    "# trying to optimize #\n",
    "mu_solver, mu_solver_W = NMFmodel('mu', 'frobenius', train_features)\n",
    "\n",
    "yp = predict(categories, mu_solver_W)\n",
    "acc = accuracy_score(labels, yp)\n",
    "\n",
    "attempted_model.append('mu Solver')\n",
    "train_accuracy.append(acc)\n",
    "\n",
    "# trying to optimize #\n",
    "KL_beta_loss, KL_beta_loss_W = NMFmodel('mu', 'kullback-leibler', train_features)\n",
    "\n",
    "yp = predict(categories, KL_beta_loss_W)\n",
    "acc = accuracy_score(labels, yp)\n",
    "\n",
    "attempted_model.append('KL beta-loss')\n",
    "train_accuracy.append(acc)\n",
    "\n",
    "# trying to optimize #\n",
    "random_init, random_init_W = NMFmodel('mu', 'kullback-leibler', train_features, 'random')\n",
    "\n",
    "yp = predict(categories, random_init_W)\n",
    "acc = accuracy_score(labels, yp)\n",
    "\n",
    "attempted_model.append('Random Init')\n",
    "train_accuracy.append(acc)\n",
    "\n",
    "\n",
    "print(attempted_model, train_accuracy)"
   ]
  },
  {
   "cell_type": "markdown",
   "metadata": {},
   "source": [
    "All of the models produced similar results, but the best performer for this case was using the mu solver. Trying that model on the test data."
   ]
  },
  {
   "cell_type": "code",
   "execution_count": 28,
   "metadata": {},
   "outputs": [
    {
     "name": "stdout",
     "output_type": "stream",
     "text": [
      "0.20707964601769913\n"
     ]
    }
   ],
   "source": [
    "mu_solver, mu_solver_W = NMFmodel('mu', 'frobenius', test_features)\n",
    "test_labels = test.book_rating\n",
    "\n",
    "yp = predict(categories, mu_solver_W)\n",
    "acc = accuracy_score(test_labels, yp)\n",
    "\n",
    "print(acc)"
   ]
  },
  {
   "cell_type": "markdown",
   "metadata": {},
   "source": [
    "Yikes, worse than a random guess"
   ]
  },
  {
   "cell_type": "code",
   "execution_count": 31,
   "metadata": {},
   "outputs": [
    {
     "name": "stdout",
     "output_type": "stream",
     "text": [
      "0.3407079646017699\n"
     ]
    }
   ],
   "source": [
    "import random\n",
    "randomlist = []\n",
    "for i in range(0,1130):\n",
    "    n = random.randint(3,5)\n",
    "    randomlist.append(n)\n",
    "\n",
    "yp = randomlist\n",
    "acc = accuracy_score(test_labels, yp)\n",
    "\n",
    "print(acc)"
   ]
  },
  {
   "cell_type": "markdown",
   "metadata": {},
   "source": [
    "Trying a supervised approach "
   ]
  },
  {
   "cell_type": "code",
   "execution_count": 34,
   "metadata": {},
   "outputs": [
    {
     "name": "stdout",
     "output_type": "stream",
     "text": [
      "0.8227581009796534\n"
     ]
    }
   ],
   "source": [
    "# Supervised Learning #\n",
    "\n",
    "model = LogisticRegression(random_state=0)\n",
    "model.fit(train_features, labels)\n",
    "y_pred = model.predict(train_features)\n",
    "acc = accuracy_score(labels, y_pred)\n",
    "\n",
    "print(acc)"
   ]
  },
  {
   "cell_type": "markdown",
   "metadata": {},
   "source": [
    "## Conclusion"
   ]
  },
  {
   "cell_type": "markdown",
   "metadata": {},
   "source": [
    "Logistic regression performed MUCH better than NMF for this dataset, with no optimization. In retrospect, this data may not have been a great choice for an unsupervised learning approach. Because the text I am analyzing it just a description of the book, and not an actual review of the book, many of the descriptions could have been very similar for different reviews, leading to very noisy data. NMF is succeptible to noisy data, whereas logistic regression is less succeptible to noisy data, which could help explain why it performed so much better."
   ]
  },
  {
   "cell_type": "markdown",
   "metadata": {},
   "source": [
    "Find my report and data on github at https://github.com/crops004/DTSA-5510/"
   ]
  },
  {
   "cell_type": "code",
   "execution_count": null,
   "metadata": {},
   "outputs": [],
   "source": []
  }
 ],
 "metadata": {
  "kernelspec": {
   "display_name": "Python 3",
   "language": "python",
   "name": "python3"
  },
  "language_info": {
   "codemirror_mode": {
    "name": "ipython",
    "version": 3
   },
   "file_extension": ".py",
   "mimetype": "text/x-python",
   "name": "python",
   "nbconvert_exporter": "python",
   "pygments_lexer": "ipython3",
   "version": "3.7.6"
  }
 },
 "nbformat": 4,
 "nbformat_minor": 4
}
